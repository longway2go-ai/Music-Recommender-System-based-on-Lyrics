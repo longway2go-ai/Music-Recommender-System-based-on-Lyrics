{
 "cells": [
  {
   "cell_type": "code",
   "execution_count": 1,
   "id": "0e228e59",
   "metadata": {},
   "outputs": [],
   "source": [
    "import numpy as np\n",
    "import pandas as pd\n",
    "import re\n",
    "import nltk\n",
    "from nltk.stem import PorterStemmer\n",
    "from sklearn.feature_extraction.text import TfidfVectorizer\n",
    "from sklearn.metrics.pairwise import cosine_similarity\n",
    "import pickle"
   ]
  },
  {
   "cell_type": "code",
   "execution_count": 2,
   "id": "b785393e",
   "metadata": {},
   "outputs": [],
   "source": [
    "data=pd.read_csv('spotify_millsongdata.csv')"
   ]
  },
  {
   "cell_type": "code",
   "execution_count": 3,
   "id": "10a5217f",
   "metadata": {},
   "outputs": [
    {
     "data": {
      "text/html": [
       "<div>\n",
       "<style scoped>\n",
       "    .dataframe tbody tr th:only-of-type {\n",
       "        vertical-align: middle;\n",
       "    }\n",
       "\n",
       "    .dataframe tbody tr th {\n",
       "        vertical-align: top;\n",
       "    }\n",
       "\n",
       "    .dataframe thead th {\n",
       "        text-align: right;\n",
       "    }\n",
       "</style>\n",
       "<table border=\"1\" class=\"dataframe\">\n",
       "  <thead>\n",
       "    <tr style=\"text-align: right;\">\n",
       "      <th></th>\n",
       "      <th>artist</th>\n",
       "      <th>song</th>\n",
       "      <th>link</th>\n",
       "      <th>text</th>\n",
       "    </tr>\n",
       "  </thead>\n",
       "  <tbody>\n",
       "    <tr>\n",
       "      <th>0</th>\n",
       "      <td>ABBA</td>\n",
       "      <td>Ahe's My Kind Of Girl</td>\n",
       "      <td>/a/abba/ahes+my+kind+of+girl_20598417.html</td>\n",
       "      <td>Look at her face, it's a wonderful face  \\r\\nA...</td>\n",
       "    </tr>\n",
       "    <tr>\n",
       "      <th>1</th>\n",
       "      <td>ABBA</td>\n",
       "      <td>Andante, Andante</td>\n",
       "      <td>/a/abba/andante+andante_20002708.html</td>\n",
       "      <td>Take it easy with me, please  \\r\\nTouch me gen...</td>\n",
       "    </tr>\n",
       "    <tr>\n",
       "      <th>2</th>\n",
       "      <td>ABBA</td>\n",
       "      <td>As Good As New</td>\n",
       "      <td>/a/abba/as+good+as+new_20003033.html</td>\n",
       "      <td>I'll never know why I had to go  \\r\\nWhy I had...</td>\n",
       "    </tr>\n",
       "    <tr>\n",
       "      <th>3</th>\n",
       "      <td>ABBA</td>\n",
       "      <td>Bang</td>\n",
       "      <td>/a/abba/bang_20598415.html</td>\n",
       "      <td>Making somebody happy is a question of give an...</td>\n",
       "    </tr>\n",
       "    <tr>\n",
       "      <th>4</th>\n",
       "      <td>ABBA</td>\n",
       "      <td>Bang-A-Boomerang</td>\n",
       "      <td>/a/abba/bang+a+boomerang_20002668.html</td>\n",
       "      <td>Making somebody happy is a question of give an...</td>\n",
       "    </tr>\n",
       "  </tbody>\n",
       "</table>\n",
       "</div>"
      ],
      "text/plain": [
       "  artist                   song                                        link  \\\n",
       "0   ABBA  Ahe's My Kind Of Girl  /a/abba/ahes+my+kind+of+girl_20598417.html   \n",
       "1   ABBA       Andante, Andante       /a/abba/andante+andante_20002708.html   \n",
       "2   ABBA         As Good As New        /a/abba/as+good+as+new_20003033.html   \n",
       "3   ABBA                   Bang                  /a/abba/bang_20598415.html   \n",
       "4   ABBA       Bang-A-Boomerang      /a/abba/bang+a+boomerang_20002668.html   \n",
       "\n",
       "                                                text  \n",
       "0  Look at her face, it's a wonderful face  \\r\\nA...  \n",
       "1  Take it easy with me, please  \\r\\nTouch me gen...  \n",
       "2  I'll never know why I had to go  \\r\\nWhy I had...  \n",
       "3  Making somebody happy is a question of give an...  \n",
       "4  Making somebody happy is a question of give an...  "
      ]
     },
     "execution_count": 3,
     "metadata": {},
     "output_type": "execute_result"
    }
   ],
   "source": [
    "data.head()"
   ]
  },
  {
   "cell_type": "code",
   "execution_count": 4,
   "id": "f61bf660",
   "metadata": {},
   "outputs": [
    {
     "data": {
      "text/plain": [
       "artist\n",
       "Donna Summer        191\n",
       "Gordon Lightfoot    189\n",
       "Bob Dylan           188\n",
       "George Strait       188\n",
       "Loretta Lynn        187\n",
       "                   ... \n",
       "Ungu                  2\n",
       "U-Kiss                1\n",
       "Zoe                   1\n",
       "Zed                   1\n",
       "X-Treme               1\n",
       "Name: count, Length: 643, dtype: int64"
      ]
     },
     "execution_count": 4,
     "metadata": {},
     "output_type": "execute_result"
    }
   ],
   "source": [
    "data['artist'].value_counts()"
   ]
  },
  {
   "cell_type": "code",
   "execution_count": 5,
   "id": "4152f8b9",
   "metadata": {},
   "outputs": [
    {
     "data": {
      "text/plain": [
       "artist    0\n",
       "song      0\n",
       "link      0\n",
       "text      0\n",
       "dtype: int64"
      ]
     },
     "execution_count": 5,
     "metadata": {},
     "output_type": "execute_result"
    }
   ],
   "source": [
    "data.isnull().sum()"
   ]
  },
  {
   "cell_type": "code",
   "execution_count": 6,
   "id": "1d6ac121",
   "metadata": {},
   "outputs": [],
   "source": [
    "data=data.sample(10000).drop('link', axis=1).reset_index(drop=True)"
   ]
  },
  {
   "cell_type": "code",
   "execution_count": 7,
   "id": "d322ff0c",
   "metadata": {},
   "outputs": [
    {
     "data": {
      "text/html": [
       "<div>\n",
       "<style scoped>\n",
       "    .dataframe tbody tr th:only-of-type {\n",
       "        vertical-align: middle;\n",
       "    }\n",
       "\n",
       "    .dataframe tbody tr th {\n",
       "        vertical-align: top;\n",
       "    }\n",
       "\n",
       "    .dataframe thead th {\n",
       "        text-align: right;\n",
       "    }\n",
       "</style>\n",
       "<table border=\"1\" class=\"dataframe\">\n",
       "  <thead>\n",
       "    <tr style=\"text-align: right;\">\n",
       "      <th></th>\n",
       "      <th>artist</th>\n",
       "      <th>song</th>\n",
       "      <th>text</th>\n",
       "    </tr>\n",
       "  </thead>\n",
       "  <tbody>\n",
       "    <tr>\n",
       "      <th>0</th>\n",
       "      <td>Kenny Rogers</td>\n",
       "      <td>I Trust You</td>\n",
       "      <td>God said  \\r\\nMary  \\r\\nPure and  \\r\\nHoly  \\r...</td>\n",
       "    </tr>\n",
       "    <tr>\n",
       "      <th>1</th>\n",
       "      <td>NOFX</td>\n",
       "      <td>Pods And Gods</td>\n",
       "      <td>Martian men are coming to Earth  \\r\\nThey're a...</td>\n",
       "    </tr>\n",
       "    <tr>\n",
       "      <th>2</th>\n",
       "      <td>Iggy Pop</td>\n",
       "      <td>1970</td>\n",
       "      <td>Out of my mind on Saturday night  \\r\\n1970 rol...</td>\n",
       "    </tr>\n",
       "    <tr>\n",
       "      <th>3</th>\n",
       "      <td>Korn</td>\n",
       "      <td>Somebody Someone</td>\n",
       "      <td>I can't stand to let you win  \\r\\nI'm just wat...</td>\n",
       "    </tr>\n",
       "    <tr>\n",
       "      <th>4</th>\n",
       "      <td>Beautiful South</td>\n",
       "      <td>Speak To Me</td>\n",
       "      <td>Speak to me  \\r\\nSpeak to me  \\r\\nSpeak to me ...</td>\n",
       "    </tr>\n",
       "  </tbody>\n",
       "</table>\n",
       "</div>"
      ],
      "text/plain": [
       "            artist              song  \\\n",
       "0     Kenny Rogers       I Trust You   \n",
       "1             NOFX     Pods And Gods   \n",
       "2         Iggy Pop              1970   \n",
       "3             Korn  Somebody Someone   \n",
       "4  Beautiful South       Speak To Me   \n",
       "\n",
       "                                                text  \n",
       "0  God said  \\r\\nMary  \\r\\nPure and  \\r\\nHoly  \\r...  \n",
       "1  Martian men are coming to Earth  \\r\\nThey're a...  \n",
       "2  Out of my mind on Saturday night  \\r\\n1970 rol...  \n",
       "3  I can't stand to let you win  \\r\\nI'm just wat...  \n",
       "4  Speak to me  \\r\\nSpeak to me  \\r\\nSpeak to me ...  "
      ]
     },
     "execution_count": 7,
     "metadata": {},
     "output_type": "execute_result"
    }
   ],
   "source": [
    "data.head()"
   ]
  },
  {
   "cell_type": "markdown",
   "id": "9fd1caa8",
   "metadata": {},
   "source": [
    "### Text Processing"
   ]
  },
  {
   "cell_type": "code",
   "execution_count": 8,
   "id": "01f03d78",
   "metadata": {},
   "outputs": [],
   "source": [
    "data['text']=data['text'].str.lower().replace(r'^\\w\\s','').replace(r'\\n','',regex=True) # '^\\w\\s' for lower case"
   ]
  },
  {
   "cell_type": "code",
   "execution_count": 9,
   "id": "13dcc77f",
   "metadata": {},
   "outputs": [],
   "source": [
    "stemmer=PorterStemmer()"
   ]
  },
  {
   "cell_type": "code",
   "execution_count": 10,
   "id": "476cae09",
   "metadata": {},
   "outputs": [
    {
     "data": {
      "text/plain": [
       "'beauti'"
      ]
     },
     "execution_count": 10,
     "metadata": {},
     "output_type": "execute_result"
    }
   ],
   "source": [
    "stemmer.stem('beautiful')"
   ]
  },
  {
   "cell_type": "code",
   "execution_count": 11,
   "id": "2f8c41db",
   "metadata": {},
   "outputs": [],
   "source": [
    "def token(text):\n",
    "    token=nltk.word_tokenize(text)\n",
    "    a=[stemmer.stem(w) for w in token]\n",
    "    return \" \".join(a)"
   ]
  },
  {
   "cell_type": "code",
   "execution_count": 12,
   "id": "059a10c8",
   "metadata": {},
   "outputs": [
    {
     "data": {
      "text/plain": [
       "'you are gorgeou , beauti'"
      ]
     },
     "execution_count": 12,
     "metadata": {},
     "output_type": "execute_result"
    }
   ],
   "source": [
    "token('you are gorgeous,beautiful')"
   ]
  },
  {
   "cell_type": "code",
   "execution_count": 13,
   "id": "eb1db235",
   "metadata": {},
   "outputs": [
    {
     "data": {
      "text/plain": [
       "0       god said mari pure and holi with thi babi i tr...\n",
       "1       martian men are come to earth they 're abduct ...\n",
       "2       out of my mind on saturday night 1970 rollin '...\n",
       "3       i ca n't stand to let you win i 'm just watch ...\n",
       "4       speak to me speak to me speak to me tell me al...\n",
       "                              ...                        \n",
       "9995    at time it seem too rough , thing just drag me...\n",
       "9996    it 's been a long time sinc i came around been...\n",
       "9997    who love me even though i 'm crazi and noth th...\n",
       "9998    time 's rollin ' forward i 'm gettin ' bore la...\n",
       "9999    do you feel what i feel , see what i see , hea...\n",
       "Name: text, Length: 10000, dtype: object"
      ]
     },
     "execution_count": 13,
     "metadata": {},
     "output_type": "execute_result"
    }
   ],
   "source": [
    "data['text'].apply(lambda x:token(x))"
   ]
  },
  {
   "cell_type": "code",
   "execution_count": 14,
   "id": "67eb8b9d",
   "metadata": {},
   "outputs": [],
   "source": [
    "tfid=TfidfVectorizer(stop_words='english') #nltk-- stopwords"
   ]
  },
  {
   "cell_type": "code",
   "execution_count": 15,
   "id": "c7bea0f1",
   "metadata": {},
   "outputs": [],
   "source": [
    "matrix=tfid.fit_transform(data['text'])"
   ]
  },
  {
   "cell_type": "code",
   "execution_count": 16,
   "id": "a40a5a43",
   "metadata": {},
   "outputs": [],
   "source": [
    "similarity=cosine_similarity(matrix)"
   ]
  },
  {
   "cell_type": "code",
   "execution_count": 17,
   "id": "042f13e2",
   "metadata": {},
   "outputs": [
    {
     "data": {
      "text/plain": [
       "array([1.        , 0.052374  , 0.07183266, ..., 0.00158731, 0.        ,\n",
       "       0.        ])"
      ]
     },
     "execution_count": 17,
     "metadata": {},
     "output_type": "execute_result"
    }
   ],
   "source": [
    "similarity[0]"
   ]
  },
  {
   "cell_type": "code",
   "execution_count": 18,
   "id": "253dd507",
   "metadata": {},
   "outputs": [
    {
     "data": {
      "text/html": [
       "<div>\n",
       "<style scoped>\n",
       "    .dataframe tbody tr th:only-of-type {\n",
       "        vertical-align: middle;\n",
       "    }\n",
       "\n",
       "    .dataframe tbody tr th {\n",
       "        vertical-align: top;\n",
       "    }\n",
       "\n",
       "    .dataframe thead th {\n",
       "        text-align: right;\n",
       "    }\n",
       "</style>\n",
       "<table border=\"1\" class=\"dataframe\">\n",
       "  <thead>\n",
       "    <tr style=\"text-align: right;\">\n",
       "      <th></th>\n",
       "      <th>artist</th>\n",
       "      <th>song</th>\n",
       "      <th>text</th>\n",
       "    </tr>\n",
       "  </thead>\n",
       "  <tbody>\n",
       "    <tr>\n",
       "      <th>2</th>\n",
       "      <td>Iggy Pop</td>\n",
       "      <td>1970</td>\n",
       "      <td>out of my mind on saturday night  \\r1970 rolli...</td>\n",
       "    </tr>\n",
       "  </tbody>\n",
       "</table>\n",
       "</div>"
      ],
      "text/plain": [
       "     artist  song                                               text\n",
       "2  Iggy Pop  1970  out of my mind on saturday night  \\r1970 rolli..."
      ]
     },
     "execution_count": 18,
     "metadata": {},
     "output_type": "execute_result"
    }
   ],
   "source": [
    "data[data['song'] == '1970']"
   ]
  },
  {
   "cell_type": "code",
   "execution_count": 19,
   "id": "2ebd7bb5",
   "metadata": {},
   "outputs": [],
   "source": [
    "def recommendation(song_df):\n",
    "    idx = data[data['song'] == song_df].index[0]\n",
    "    distances = sorted(list(enumerate(similarity[idx])),reverse=True,key=lambda x:x[1])\n",
    "    \n",
    "    songs = []\n",
    "    for m_id in distances[1:21]:\n",
    "        songs.append(data.iloc[m_id[0]].song)\n",
    "        \n",
    "    return songs"
   ]
  },
  {
   "cell_type": "code",
   "execution_count": 20,
   "id": "db252e0b",
   "metadata": {},
   "outputs": [
    {
     "data": {
      "text/plain": [
       "['Blow It All Away',\n",
       " 'Baby I',\n",
       " 'Heavy Whispers',\n",
       " 'Baby Baby',\n",
       " 'Baby One More Time',\n",
       " 'Secret Love',\n",
       " 'Glow',\n",
       " 'Please, Please, Please',\n",
       " 'Through The Night',\n",
       " 'Should I, Would I, Could I',\n",
       " 'Baby Baby',\n",
       " \"And My Baby's Gone\",\n",
       " 'I Love You Too Much',\n",
       " \"There's Something In The Air\",\n",
       " \"Can't Take My Eyes Off Of You\",\n",
       " 'Keep It Right There',\n",
       " \"Don't Tease Me\",\n",
       " 'Scream',\n",
       " \"Don't Let Me Down\",\n",
       " 'Everything Will Be Alright']"
      ]
     },
     "execution_count": 20,
     "metadata": {},
     "output_type": "execute_result"
    }
   ],
   "source": [
    "recommendation('1970')"
   ]
  },
  {
   "cell_type": "code",
   "execution_count": 21,
   "id": "4aed321f",
   "metadata": {},
   "outputs": [],
   "source": [
    "pickle.dump(similarity,open('similarity.pkl','wb'))"
   ]
  },
  {
   "cell_type": "code",
   "execution_count": 22,
   "id": "247c25f3",
   "metadata": {},
   "outputs": [],
   "source": [
    "pickle.dump(data,open('data.pkl','wb'))"
   ]
  },
  {
   "cell_type": "code",
   "execution_count": null,
   "id": "c7c23e68",
   "metadata": {},
   "outputs": [],
   "source": []
  }
 ],
 "metadata": {
  "kernelspec": {
   "display_name": "Python 3 (ipykernel)",
   "language": "python",
   "name": "python3"
  },
  "language_info": {
   "codemirror_mode": {
    "name": "ipython",
    "version": 3
   },
   "file_extension": ".py",
   "mimetype": "text/x-python",
   "name": "python",
   "nbconvert_exporter": "python",
   "pygments_lexer": "ipython3",
   "version": "3.10.16"
  }
 },
 "nbformat": 4,
 "nbformat_minor": 5
}
